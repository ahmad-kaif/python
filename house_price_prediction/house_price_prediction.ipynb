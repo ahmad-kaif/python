{
 "cells": [
  {
   "cell_type": "code",
   "execution_count": 2,
   "id": "7dc2e5f7-9343-49cc-ae6f-6090f1c9622c",
   "metadata": {},
   "outputs": [
    {
     "name": "stdout",
     "output_type": "stream",
     "text": [
      "                  date      price  bedrooms  bathrooms  sqft_living  sqft_lot  \\\n",
      "0  2014-05-02 00:00:00   313000.0       3.0       1.50         1340      7912   \n",
      "1  2014-05-02 00:00:00  2384000.0       5.0       2.50         3650      9050   \n",
      "2  2014-05-02 00:00:00   342000.0       3.0       2.00         1930     11947   \n",
      "3  2014-05-02 00:00:00   420000.0       3.0       2.25         2000      8030   \n",
      "4  2014-05-02 00:00:00   550000.0       4.0       2.50         1940     10500   \n",
      "\n",
      "   floors  waterfront  view  condition  sqft_above  sqft_basement  yr_built  \\\n",
      "0     1.5           0     0          3        1340              0      1955   \n",
      "1     2.0           0     4          5        3370            280      1921   \n",
      "2     1.0           0     0          4        1930              0      1966   \n",
      "3     1.0           0     0          4        1000           1000      1963   \n",
      "4     1.0           0     0          4        1140            800      1976   \n",
      "\n",
      "   yr_renovated                    street       city  statezip country  \n",
      "0          2005      18810 Densmore Ave N  Shoreline  WA 98133     USA  \n",
      "1             0           709 W Blaine St    Seattle  WA 98119     USA  \n",
      "2             0  26206-26214 143rd Ave SE       Kent  WA 98042     USA  \n",
      "3             0           857 170th Pl NE   Bellevue  WA 98008     USA  \n",
      "4          1992         9105 170th Ave NE    Redmond  WA 98052     USA  \n"
     ]
    }
   ],
   "source": [
    "import pandas as pd\n",
    "df = pd.read_csv(\"data.csv\");\n",
    "print(df.head());"
   ]
  },
  {
   "cell_type": "code",
   "execution_count": null,
   "id": "5c311440-b78e-48ca-a169-047091cf1446",
   "metadata": {},
   "outputs": [],
   "source": []
  },
  {
   "cell_type": "code",
   "execution_count": null,
   "id": "58cbcfe5-792c-4a55-b3d7-e3736b39bde8",
   "metadata": {},
   "outputs": [],
   "source": []
  }
 ],
 "metadata": {
  "kernelspec": {
   "display_name": "Python 3 (ipykernel)",
   "language": "python",
   "name": "python3"
  },
  "language_info": {
   "codemirror_mode": {
    "name": "ipython",
    "version": 3
   },
   "file_extension": ".py",
   "mimetype": "text/x-python",
   "name": "python",
   "nbconvert_exporter": "python",
   "pygments_lexer": "ipython3",
   "version": "3.13.1"
  }
 },
 "nbformat": 4,
 "nbformat_minor": 5
}
